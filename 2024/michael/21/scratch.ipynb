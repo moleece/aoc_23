{
 "cells": [
  {
   "cell_type": "code",
   "execution_count": 29,
   "metadata": {},
   "outputs": [],
   "source": [
    "# OPT(c1, c2, k) = number of moves to get from c1 to c2 and press c2 with k levels of indirection\n",
    "# OPT(c1, c2, k) = OPT(A, leftarrow, k-1) + (num left presses-1) + OPT(leftarrow, uparrow, k-1) + (num up presses-1)\n",
    "#                     + OPT(uparrow, A, k-1) + 1\n",
    "\n",
    "from functools import cache\n",
    "\n",
    "arrowPos = {\n",
    "    '^': (0,1),\n",
    "    'A': (0,2),\n",
    "    '<': (1,0),\n",
    "    'v': (1,1),\n",
    "    '>': (1,2)\n",
    "}\n",
    "@cache\n",
    "def opt(c1, c2, k):\n",
    "    pos = arrowPos[c1]\n",
    "    newPos = arrowPos[c2]\n",
    "    dy = newPos[0] - pos[0]\n",
    "    dx = newPos[1] - pos[1]\n",
    "    if k == 0:\n",
    "        return abs(dy) + abs(dx) + 1\n",
    "    else:\n",
    "        lr = '<' if dx < 0 else '>'\n",
    "        ud = '^' if dy < 0 else 'v'\n",
    "        \n",
    "        if dx == 0 and dy == 0:\n",
    "            return 1\n",
    "        if dx == 0:\n",
    "            return opt('A', ud, k-1) + abs(dy) - 1 + opt(ud, 'A', k-1)\n",
    "        if dy == 0:\n",
    "            return opt('A', lr, k-1) + abs(dx) - 1 + opt(lr, 'A', k-1)\n",
    "\n",
    "        p1 = (opt('A', lr, k-1) + abs(dx) - 1   # move to left/right\n",
    "            + opt(lr, ud, k-1) + abs(dy) - 1   # move up/down\n",
    "            + opt(ud, 'A', k-1)           # press c2\n",
    "        )\n",
    "\n",
    "        p2 = (opt('A', ud, k-1) + abs(dy) - 1   # move up/down\n",
    "            + opt(ud, lr, k-1) + abs(dx) - 1   # move left/right\n",
    "            + opt(lr, 'A', k-1)           # press c2\n",
    "        )\n",
    "        if pos[0] == 0 and newPos[1] == 0:\n",
    "            return p2\n",
    "        elif pos[1] == 0 and newPos[0] == 0:\n",
    "            return p1\n",
    "        else:\n",
    "            return min(p1, p2)\n"
   ]
  },
  {
   "cell_type": "code",
   "execution_count": 30,
   "metadata": {},
   "outputs": [
    {
     "name": "stdout",
     "output_type": "stream",
     "text": [
      "7\n"
     ]
    }
   ],
   "source": [
    "print(opt('<', '^', 1))\n"
   ]
  },
  {
   "cell_type": "code",
   "execution_count": 8,
   "metadata": {},
   "outputs": [],
   "source": [
    "def get_length(arrowStr, indirectionLevels):\n",
    "    length = opt('A', arrowStr[0], indirectionLevels)\n",
    "    for i in range(len(arrowStr)-1):\n",
    "        length += opt(arrowStr[i], arrowStr[i+1], indirectionLevels)\n",
    "    return length"
   ]
  },
  {
   "cell_type": "code",
   "execution_count": 41,
   "metadata": {},
   "outputs": [
    {
     "name": "stdout",
     "output_type": "stream",
     "text": [
      "803 - 38251141688\n",
      "528 - 34762379550\n",
      "586 - 34762379548\n",
      "341 - 36480805912\n",
      "319 - 33515139180\n",
      "92572241807404\n"
     ]
    }
   ],
   "source": [
    "ns = [(get_length('<^^^AvvvA>^AvA', 24), 803),\n",
    "(get_length('<^^AvA^^Avvv>A', 24), 528),\n",
    "(get_length('<^^A^Av>AvvA', 24), 586),\n",
    "(get_length('^A<<^AvA>>vA', 24), 341),\n",
    "(get_length('^A<<A>>^^AvvvA', 24), 319)]\n",
    "\n",
    "for n in ns:\n",
    "    print(n[1], '-', n[0])\n",
    "\n",
    "print(sum([x[0]*x[1] for x in ns]))"
   ]
  },
  {
   "cell_type": "code",
   "execution_count": 11,
   "metadata": {},
   "outputs": [
    {
     "data": {
      "text/plain": [
       "30"
      ]
     },
     "execution_count": 11,
     "metadata": {},
     "output_type": "execute_result"
    }
   ],
   "source": []
  },
  {
   "cell_type": "code",
   "execution_count": null,
   "metadata": {},
   "outputs": [],
   "source": []
  }
 ],
 "metadata": {
  "kernelspec": {
   "display_name": "Python 3",
   "language": "python",
   "name": "python3"
  },
  "language_info": {
   "codemirror_mode": {
    "name": "ipython",
    "version": 3
   },
   "file_extension": ".py",
   "mimetype": "text/x-python",
   "name": "python",
   "nbconvert_exporter": "python",
   "pygments_lexer": "ipython3",
   "version": "3.11.4"
  }
 },
 "nbformat": 4,
 "nbformat_minor": 2
}
