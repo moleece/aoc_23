{
 "cells": [
  {
   "cell_type": "code",
   "execution_count": 52,
   "metadata": {},
   "outputs": [],
   "source": [
    "with open('input.txt') as f:\n",
    "    lines = f.readlines()"
   ]
  },
  {
   "cell_type": "code",
   "execution_count": 53,
   "metadata": {},
   "outputs": [],
   "source": [
    "f = open('input2.txt', 'w')\n",
    "while len(lines) > 0:\n",
    "    if '->' in lines[0]:\n",
    "        break\n",
    "    line = lines.pop(0)\n",
    "    f.write(line)\n",
    "f.close()"
   ]
  },
  {
   "cell_type": "code",
   "execution_count": 54,
   "metadata": {},
   "outputs": [],
   "source": [
    "f = open('input2.txt', 'a')\n",
    "\n",
    "renames = {}\n",
    "for line in lines:\n",
    "    s = line.split(' ')\n",
    "    if ('x' in s[0] and 'y' in s[2]) or ('y' in s[0] and 'x' in s[2]):\n",
    "        n = int(s[0][1:])\n",
    "        if s[1] == 'AND':\n",
    "            renames[s[-1].strip()] = 'c' + str(n)\n",
    "        elif s[1] == 'XOR':\n",
    "            renames[s[-1].strip()] = 'd' + str(n)\n",
    "\n",
    "txt = ''.join(lines)\n",
    "for k, v in renames.items():\n",
    "    txt = txt.replace(k, v)\n",
    "lines = txt.split('\\n')\n",
    "\n",
    "renames = {}\n",
    "for line in lines:\n",
    "    s = line.split(' ')\n",
    "    if s[1] == 'OR':\n",
    "        if 'c' in s[0]:\n",
    "            try:\n",
    "                n = int(s[0][1:])\n",
    "                renames[s[-1].strip()] = 'e' + str(n)\n",
    "            except:\n",
    "                continue\n",
    "        elif 'c' in s[2]:\n",
    "            try:\n",
    "                n = int(s[2][1:])\n",
    "                renames[s[-1].strip()] = 'e' + str(n)\n",
    "            except:\n",
    "                continue\n",
    "txt = '\\n'.join(lines)\n",
    "for k, v in renames.items():\n",
    "    txt = txt.replace(k, v)\n",
    "lines = txt.split('\\n')\n",
    "\n",
    "\n",
    "renames = {}\n",
    "for line in lines:\n",
    "    s = line.split(' ')\n",
    "    if s[1] == 'AND':\n",
    "        if ('d' in s[0] and 'e' in s[2]):\n",
    "            try:\n",
    "                n = int(s[0][1:])\n",
    "                renames[s[-1].strip()] = 'f' + str(n)\n",
    "            except:\n",
    "                continue\n",
    "        elif ('d' in s[2] and 'e' in s[0]):\n",
    "            try:\n",
    "                n = int(s[2][1:])\n",
    "                renames[s[-1].strip()] = 'f' + str(n)\n",
    "            except:\n",
    "                continue\n",
    "txt = '\\n'.join(lines)\n",
    "for k, v in renames.items():\n",
    "    txt = txt.replace(k, v)\n",
    "lines = txt.split('\\n')\n",
    "\n",
    "\n",
    "\n",
    "lines = sorted(lines, key=lambda x: x.split(' ')[-1])\n",
    "txt = '\\n'.join(lines)\n",
    "f.write(txt)\n",
    "\n",
    "f.close()"
   ]
  },
  {
   "cell_type": "code",
   "execution_count": 1,
   "metadata": {},
   "outputs": [],
   "source": [
    "# Visualization\n",
    "from pyvis.network import Network\n",
    "import networkx as nx"
   ]
  },
  {
   "cell_type": "code",
   "execution_count": 14,
   "metadata": {},
   "outputs": [],
   "source": [
    "with open('input_experimental.txt') as f:\n",
    "    lines = f.readlines()\n",
    "    \n",
    "edges = []\n",
    "for line in lines:\n",
    "    if '->' in line:\n",
    "        s = line.split(' ')\n",
    "        x1 = s[0]\n",
    "        x2 = s[2]\n",
    "        y1 = s[-1].strip()\n",
    "        edges.append((x1, y1))\n",
    "        edges.append((x2, y1))\n"
   ]
  },
  {
   "cell_type": "code",
   "execution_count": 15,
   "metadata": {},
   "outputs": [
    {
     "name": "stdout",
     "output_type": "stream",
     "text": [
      "dag_experimental.html\n"
     ]
    },
    {
     "data": {
      "text/html": [
       "\n",
       "        <iframe\n",
       "            width=\"100%\"\n",
       "            height=\"600px\"\n",
       "            src=\"dag_experimental.html\"\n",
       "            frameborder=\"0\"\n",
       "            allowfullscreen\n",
       "            \n",
       "        ></iframe>\n",
       "        "
      ],
      "text/plain": [
       "<IPython.lib.display.IFrame at 0x26092f61950>"
      ]
     },
     "execution_count": 15,
     "metadata": {},
     "output_type": "execute_result"
    }
   ],
   "source": [
    "# Create directed graph\n",
    "G = nx.DiGraph()\n",
    "\n",
    "# edges = [(\"A\", \"B\"), (\"A\", \"C\"), (\"B\", \"D\"), (\"C\", \"D\"), (\"D\", \"E\")]\n",
    "G.add_edges_from(edges)\n",
    "\n",
    "# Convert to pyvis Network\n",
    "net = Network(notebook=True, directed=True, cdn_resources=\"remote\")\n",
    "net.from_nx(G)\n",
    "\n",
    "# Show the graph\n",
    "net.show(\"dag_experimental.html\")\n"
   ]
  },
  {
   "cell_type": "code",
   "execution_count": null,
   "metadata": {},
   "outputs": [],
   "source": [
    "dmh,z31\n",
    "\n",
    "ctg, rpb\n",
    "\n",
    "z38, dvq\n",
    "\n",
    "z11, rpv\n",
    "\n",
    "ctg,dmh,dvq,rpb,rpv,z11,z31,z38"
   ]
  }
 ],
 "metadata": {
  "kernelspec": {
   "display_name": "Python 3",
   "language": "python",
   "name": "python3"
  },
  "language_info": {
   "codemirror_mode": {
    "name": "ipython",
    "version": 3
   },
   "file_extension": ".py",
   "mimetype": "text/x-python",
   "name": "python",
   "nbconvert_exporter": "python",
   "pygments_lexer": "ipython3",
   "version": "3.11.4"
  }
 },
 "nbformat": 4,
 "nbformat_minor": 2
}
