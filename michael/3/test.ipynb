{
 "cells": [
  {
   "cell_type": "code",
   "execution_count": 8,
   "metadata": {},
   "outputs": [],
   "source": [
    "import sys, math\n",
    "with open('data1', 'r') as f:\n",
    "    lines = f.readlines()\n",
    "adj = [[c for c in line.strip()] for line in lines]"
   ]
  },
  {
   "cell_type": "code",
   "execution_count": 3,
   "metadata": {},
   "outputs": [],
   "source": [
    "counts = {}\n",
    "for line in adj:\n",
    "    for c in line:\n",
    "        if c in counts:\n",
    "            counts[c] += 1\n",
    "        else:\n",
    "            counts[c] = 1"
   ]
  },
  {
   "cell_type": "code",
   "execution_count": 4,
   "metadata": {},
   "outputs": [
    {
     "data": {
      "text/plain": [
       "{'.': 15394,\n",
       " '4': 373,\n",
       " '1': 345,\n",
       " '3': 349,\n",
       " '6': 381,\n",
       " '7': 350,\n",
       " '5': 362,\n",
       " '0': 245,\n",
       " '2': 350,\n",
       " '9': 370,\n",
       " '8': 323,\n",
       " '$': 47,\n",
       " '/': 47,\n",
       " '*': 364,\n",
       " '+': 67,\n",
       " '=': 39,\n",
       " '&': 43,\n",
       " '%': 42,\n",
       " '#': 31,\n",
       " '@': 44,\n",
       " '-': 34}"
      ]
     },
     "execution_count": 4,
     "metadata": {},
     "output_type": "execute_result"
    }
   ],
   "source": [
    "counts"
   ]
  },
  {
   "cell_type": "code",
   "execution_count": 6,
   "metadata": {},
   "outputs": [],
   "source": [
    "def checkNum(adj, num, ni, nj):\n",
    "    width = math.ceil(math.log10(num))\n",
    "    for i in range(ni-1, ni + 2):\n",
    "        for j in range(nj-1, nj + width + 1):\n",
    "            if i < 0 or i >= len(adj):\n",
    "                continue\n",
    "            if j < 0 or j >= len(adj[i]):\n",
    "                continue\n",
    "            if adj[i][j].isalnum() or adj[i][j] == '.':\n",
    "                continue\n",
    "            return True"
   ]
  },
  {
   "cell_type": "code",
   "execution_count": 10,
   "metadata": {},
   "outputs": [
    {
     "name": "stdout",
     "output_type": "stream",
     "text": [
      "411\n",
      "363\n",
      "134\n",
      "463\n",
      "775\n",
      "506\n",
      "429\n",
      "836\n",
      "960\n",
      "381\n",
      "67\n",
      "426\n",
      "304\n",
      "641\n",
      "924\n",
      "855\n",
      "492\n",
      "495\n",
      "476\n",
      "927\n",
      "680\n",
      "713\n",
      "900\n",
      "239\n",
      "325\n",
      "953\n",
      "771\n",
      "808\n",
      "329\n",
      "214\n",
      "846\n",
      "233\n",
      "774\n",
      "445\n",
      "107\n",
      "927\n",
      "536102\n"
     ]
    }
   ],
   "source": [
    "total = 0\n",
    "for i in range(len(adj)):\n",
    "    j = 0\n",
    "    while j < len(adj[i]):\n",
    "        if adj[i][j].isdigit():\n",
    "            part = int(adj[i][j])\n",
    "            j += 1\n",
    "            while j < len(adj[i]) and adj[i][j].isdigit():\n",
    "                part = part*10 + int(adj[i][j])\n",
    "                j += 1\n",
    "            if checkNum(adj, part, i, j-math.ceil(math.log10(part))):\n",
    "                if total > 530000:\n",
    "                    print(part)\n",
    "                total += part\n",
    "        else:\n",
    "            j += 1\n",
    "print(total)"
   ]
  },
  {
   "cell_type": "code",
   "execution_count": null,
   "metadata": {},
   "outputs": [],
   "source": []
  }
 ],
 "metadata": {
  "kernelspec": {
   "display_name": "Python 3",
   "language": "python",
   "name": "python3"
  },
  "language_info": {
   "codemirror_mode": {
    "name": "ipython",
    "version": 3
   },
   "file_extension": ".py",
   "mimetype": "text/x-python",
   "name": "python",
   "nbconvert_exporter": "python",
   "pygments_lexer": "ipython3",
   "version": "3.10.11"
  },
  "orig_nbformat": 4
 },
 "nbformat": 4,
 "nbformat_minor": 2
}
